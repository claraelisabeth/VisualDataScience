{
 "cells": [
  {
   "cell_type": "markdown",
   "metadata": {},
   "source": [
    "# Project Name\n",
    "\n",
    "## Visual Data Science\n",
    "\n",
    "Clara Pichler, 11917694\n",
    "\n",
    "### Overview\n",
    "\n",
    "1. Introduction\n",
    "- Original Research Questions\n",
    "- Used Datasets\n",
    "- Requirements & Dependencies\n",
    "\n",
    "2. Data Preprocessing\n",
    "- Loading in the Data Sets\n",
    "- First Steps\n",
    "- Missing Values\n",
    "- Merging Data Sets\n",
    "\n",
    "3. Data Exploration\n",
    "- \n",
    "\n",
    "4. Conclusion"
   ]
  },
  {
   "cell_type": "markdown",
   "metadata": {},
   "source": [
    "### Notes\n",
    "\n",
    "Bis 16.12\n",
    "\n",
    "__Wrangle:__ \n",
    "- Join the two or more datasets you selected into one big data table, and\n",
    "- Solve issues like formatting issues, missing data, faulty values, and non-matching keys\n",
    "- _10 points_ extra, if you can (visually!) show and explain the data quality of your dataset (for example, before and after cleaning steps). There are no instructions how such a visualization should look like, since this also highly depends on the chosen domain and data. You will have to come up with your own, creative, solution here.\n",
    "\n",
    "__Profile:__\n",
    "- Find at least 3 valuable insights.\n",
    "- Show the insights by using visualization.\n",
    "\n",
    "In the Profile part, you will have to explore the data in detail, to completely understand its structure, and to discover any interesting patterns that can be found in there. The following steps are required:\n",
    "\n",
    "- Find at least 3 informative insights in your dataset, and\n",
    "- Show and explain the insights using visualizations (one visualization per insight).\n",
    "\n"
   ]
  },
  {
   "cell_type": "markdown",
   "metadata": {},
   "source": [
    "## Introduction\n",
    "\n",
    "### Original Research Questions\n",
    "\n",
    "- Are there any similarities between countries which win medals often in specific kinds of sports?\n",
    "- Which factors influence the amount of medals a country wins? \n",
    "- Is it possible to predict the number of won medals of a country?\n",
    "- Are there any trends in the medal distribution over time?\n",
    "- Which factors play a part in the \"under-dog\" countries winning suddenly some medals?\n",
    "\n",
    "\n",
    "### Used Data Sets\n",
    "\n",
    "__Olympics Medals Data Set__\n",
    "- _description:_ General information on medalists (Athlete or Team)\n",
    "- _source:_ https://www.kaggle.com/datasets/piterfm/olympic-games-medals-19862018\n",
    "- _note:_ This data set comes with three other data sets that include information on the athletes, hosts and all of the results. I will only focus on the medals so first, second and third place, therefore only using the `olympic_medals.csv` data set. \n",
    "- _disadvantages:_ Quote from the description\n",
    "    - \"There are no results for qualification rounds. For instance, event 100-m men contains only final results without semi-finals and other hits.\"\n",
    "    - \"There is no information about athletes for team competitions that consist of more than 2 participants. Only team records.\"\n",
    "\n",
    "__Rugged Data Set__\n",
    "- _description:_\n",
    "- _source:_ https://diegopuga.org/data/rugged/ \n",
    "- \n",
    "\n",
    "__Elevation Extremes Data Set__\n",
    "- _description:_ A sortable table which lists land surface elevation extremes by country or dependent territory\n",
    "- _source:_ https://en.wikipedia.org/wiki/List_of_elevation_extremes_by_country \n",
    "- \n",
    "\n",
    "__World Climate Data__\n",
    "- _description:_ List of all countries and territories in the world with climate zones and average annual temperatures.\n",
    "- _source:_ https://weatherandclimate.com/countries \n",
    "- \n",
    "\n",
    "### Requirements & Dependencies\n",
    "\n",
    "This project was created using Python 3.12.5. The exact versions of the dependencies can be installed with the following command."
   ]
  },
  {
   "cell_type": "code",
   "execution_count": 157,
   "metadata": {
    "vscode": {
     "languageId": "shellscript"
    }
   },
   "outputs": [
    {
     "name": "stdout",
     "output_type": "stream",
     "text": [
      "Note: you may need to restart the kernel to use updated packages.\n"
     ]
    }
   ],
   "source": [
    "%pip install -r requirements.txt -q"
   ]
  },
  {
   "cell_type": "code",
   "execution_count": 158,
   "metadata": {},
   "outputs": [],
   "source": [
    "import pandas as pd\n",
    "import numpy as np\n",
    "from bs4 import BeautifulSoup\n",
    "import requests as r\n",
    "import seaborn as sns\n",
    "import missingno as msno\n",
    "import matplotlib.pyplot as plt\n",
    "from sklearn.impute import SimpleImputer"
   ]
  },
  {
   "cell_type": "markdown",
   "metadata": {},
   "source": [
    "## Data Pre-Processing\n",
    "\n",
    "### Loading in the Data Sets\n",
    "\n",
    "First and foremost we will load in our data sets. For the rugged data I had some problems with encoding since two countries have special characters in their name, as one can see below. By using `encoding='latin1'` this issue was able to be resolved.\n",
    "\n",
    "For the elevation data set which I got from Wikipedia, I used `BeautifulSoup` to scrape the table from their website. I treid firts `pd.read_html` however this simple approach did not work for me like it did for others."
   ]
  },
  {
   "cell_type": "code",
   "execution_count": 159,
   "metadata": {},
   "outputs": [
    {
     "name": "stdout",
     "output_type": "stream",
     "text": [
      "Problem in row 41: \"CIV\",384,\"C�te d'Ivoire\",0.224,0.159,0.594,0.069,0.493,31800,7.623,-5.554,26.151,0.000,100.000,0.284,16.359,3239,1575.628,1040.878,1800.013,1352.019,1536.270,-0.860,1,0,0,0,0,0,0,1,0,0,0,0,0,1,0,0,0,0,1,0,0,52645.949,4.186,9.457,3.353,4.794,435857,0.000\n",
      "\n",
      "Problem in row 177: \"REU\",638,\"R�union\",3.873,0.962,10.657,1.208,67.425,250,-21.121,55.540,16.400,0.000,58.336,0.008,100,0,,1989.306,3821.115,4588.492,3412.181,,1,0,0,0,0,0,0,1,0,0,0,0,0,0,0,0,0,0,0,1,0,0.000,10.090,0.208,6.256,3.879,0,\n",
      "\n"
     ]
    }
   ],
   "source": [
    "with open('data/rugged_data/rugged_data.csv', 'r', encoding='ascii', errors='replace') as f:\n",
    "    for i, line in enumerate(f):\n",
    "        if '�' in line:  \n",
    "            print(f\"Problem in row {i + 1}: {line}\")"
   ]
  },
  {
   "cell_type": "code",
   "execution_count": 160,
   "metadata": {},
   "outputs": [],
   "source": [
    "df_olympics = pd.read_csv('data/olympics/olympic_medals.csv')\n",
    "df_rugged = pd.read_csv('data/rugged_data/rugged_data.csv', encoding='latin1')"
   ]
  },
  {
   "cell_type": "code",
   "execution_count": 161,
   "metadata": {},
   "outputs": [],
   "source": [
    "url = \"https://en.wikipedia.org/wiki/List_of_elevation_extremes_by_country\"\n",
    "response = r.get(url)\n",
    "wiki_page_text = response.text"
   ]
  },
  {
   "cell_type": "code",
   "execution_count": 162,
   "metadata": {},
   "outputs": [
    {
     "data": {
      "text/plain": [
       "200"
      ]
     },
     "execution_count": 162,
     "metadata": {},
     "output_type": "execute_result"
    }
   ],
   "source": [
    "response.status_code # 200 means everything is A-OK"
   ]
  },
  {
   "cell_type": "code",
   "execution_count": 163,
   "metadata": {},
   "outputs": [],
   "source": [
    "soup = BeautifulSoup(wiki_page_text, 'html.parser')\n",
    "elevation_table = soup.find('table',{'class':'wikitable sortable'})\n",
    "\n",
    "headers = [header.text.strip() for header in elevation_table.find_all('th')]\n",
    "\n",
    "rows = []\n",
    "for row in elevation_table.find_all('tr')[1:]:  \n",
    "    cells = [cell.text.strip() for cell in row.find_all(['td', 'th'])]\n",
    "    rows.append(cells)\n",
    "\n",
    "df_elevation = pd.DataFrame(rows, columns=headers)"
   ]
  },
  {
   "cell_type": "code",
   "execution_count": 164,
   "metadata": {},
   "outputs": [
    {
     "data": {
      "text/plain": [
       "200"
      ]
     },
     "execution_count": 164,
     "metadata": {},
     "output_type": "execute_result"
    }
   ],
   "source": [
    "url = \"https://weatherandclimate.com/countries\"\n",
    "response = r.get(url)\n",
    "wiki_page_text = response.text\n",
    "response.status_code # 200 means everything is A-OK"
   ]
  },
  {
   "cell_type": "code",
   "execution_count": 165,
   "metadata": {},
   "outputs": [],
   "source": [
    "soup = BeautifulSoup(wiki_page_text, 'html.parser')\n",
    "elevation_table = soup.find('table',{'class':'tb1'})\n",
    "\n",
    "headers = [header.text.strip() for header in elevation_table.find_all('th')]\n",
    "\n",
    "rows = []\n",
    "for row in elevation_table.find_all('tr')[1:]:  \n",
    "    cells = [cell.text.strip() for cell in row.find_all(['td', 'th'])]\n",
    "    rows.append(cells)\n",
    "\n",
    "df_climate = pd.DataFrame(rows, columns=headers)"
   ]
  },
  {
   "cell_type": "markdown",
   "metadata": {},
   "source": [
    "### First Steps"
   ]
  },
  {
   "cell_type": "markdown",
   "metadata": {},
   "source": [
    "First we will take a first look at the `df_olympics` dataframe. We will drop unnecessary columns like `athlete_url` and `country_code` since we only need the ISO code which is the `country_3_letter_code` attribute. I do not care about the host country so I changed the `slug_game` attribute to `year` and left out the host name. The type was changed to `int`, all other types are fine. Maybe we will change `medal_type` gold, silver and bronze to 1, 2, and 3 in the future for making it easier to work with. \n",
    "\n",
    "I also drop the column `athlete_full_name` which will result in rows that are not unique since for events with the `participant_type` `GameTeam` we have a medal entry for each athlete in the team. Thats why I use `drop_duplicates()`.\n"
   ]
  },
  {
   "cell_type": "code",
   "execution_count": 152,
   "metadata": {},
   "outputs": [],
   "source": [
    "df_olympics = df_olympics.drop(['athlete_url', 'country_code', 'athlete_full_name'], axis=1).drop_duplicates()\n",
    "\n",
    "df_olympics = df_olympics.rename(columns={\n",
    "    'slug_game': 'year',\n",
    "    'country_3_letter_code': 'isocode'\n",
    "})\n",
    "\n",
    "df_olympics['year'] = df_olympics['year'].str[-4:].astype(int)\n",
    "\n",
    "df_olympics = df_olympics.reset_index(drop=True)\n"
   ]
  },
  {
   "cell_type": "code",
   "execution_count": 153,
   "metadata": {},
   "outputs": [
    {
     "data": {
      "text/html": [
       "<div>\n",
       "<style scoped>\n",
       "    .dataframe tbody tr th:only-of-type {\n",
       "        vertical-align: middle;\n",
       "    }\n",
       "\n",
       "    .dataframe tbody tr th {\n",
       "        vertical-align: top;\n",
       "    }\n",
       "\n",
       "    .dataframe thead th {\n",
       "        text-align: right;\n",
       "    }\n",
       "</style>\n",
       "<table border=\"1\" class=\"dataframe\">\n",
       "  <thead>\n",
       "    <tr style=\"text-align: right;\">\n",
       "      <th></th>\n",
       "      <th>discipline_title</th>\n",
       "      <th>year</th>\n",
       "      <th>event_title</th>\n",
       "      <th>event_gender</th>\n",
       "      <th>medal_type</th>\n",
       "      <th>participant_type</th>\n",
       "      <th>participant_title</th>\n",
       "      <th>country_name</th>\n",
       "      <th>isocode</th>\n",
       "    </tr>\n",
       "  </thead>\n",
       "  <tbody>\n",
       "    <tr>\n",
       "      <th>0</th>\n",
       "      <td>Curling</td>\n",
       "      <td>2022</td>\n",
       "      <td>Mixed Doubles</td>\n",
       "      <td>Mixed</td>\n",
       "      <td>GOLD</td>\n",
       "      <td>GameTeam</td>\n",
       "      <td>Italy</td>\n",
       "      <td>Italy</td>\n",
       "      <td>ITA</td>\n",
       "    </tr>\n",
       "    <tr>\n",
       "      <th>1</th>\n",
       "      <td>Curling</td>\n",
       "      <td>2022</td>\n",
       "      <td>Mixed Doubles</td>\n",
       "      <td>Mixed</td>\n",
       "      <td>SILVER</td>\n",
       "      <td>GameTeam</td>\n",
       "      <td>Norway</td>\n",
       "      <td>Norway</td>\n",
       "      <td>NOR</td>\n",
       "    </tr>\n",
       "    <tr>\n",
       "      <th>2</th>\n",
       "      <td>Curling</td>\n",
       "      <td>2022</td>\n",
       "      <td>Mixed Doubles</td>\n",
       "      <td>Mixed</td>\n",
       "      <td>BRONZE</td>\n",
       "      <td>GameTeam</td>\n",
       "      <td>Sweden</td>\n",
       "      <td>Sweden</td>\n",
       "      <td>SWE</td>\n",
       "    </tr>\n",
       "    <tr>\n",
       "      <th>3</th>\n",
       "      <td>Curling</td>\n",
       "      <td>2022</td>\n",
       "      <td>Women</td>\n",
       "      <td>Women</td>\n",
       "      <td>GOLD</td>\n",
       "      <td>GameTeam</td>\n",
       "      <td>Great Britain</td>\n",
       "      <td>Great Britain</td>\n",
       "      <td>GBR</td>\n",
       "    </tr>\n",
       "    <tr>\n",
       "      <th>4</th>\n",
       "      <td>Curling</td>\n",
       "      <td>2022</td>\n",
       "      <td>Women</td>\n",
       "      <td>Women</td>\n",
       "      <td>SILVER</td>\n",
       "      <td>GameTeam</td>\n",
       "      <td>Japan</td>\n",
       "      <td>Japan</td>\n",
       "      <td>JPN</td>\n",
       "    </tr>\n",
       "  </tbody>\n",
       "</table>\n",
       "</div>"
      ],
      "text/plain": [
       "  discipline_title  year    event_title event_gender medal_type  \\\n",
       "0          Curling  2022  Mixed Doubles        Mixed       GOLD   \n",
       "1          Curling  2022  Mixed Doubles        Mixed     SILVER   \n",
       "2          Curling  2022  Mixed Doubles        Mixed     BRONZE   \n",
       "3          Curling  2022          Women        Women       GOLD   \n",
       "4          Curling  2022          Women        Women     SILVER   \n",
       "\n",
       "  participant_type participant_title   country_name isocode  \n",
       "0         GameTeam             Italy          Italy     ITA  \n",
       "1         GameTeam            Norway         Norway     NOR  \n",
       "2         GameTeam            Sweden         Sweden     SWE  \n",
       "3         GameTeam     Great Britain  Great Britain     GBR  \n",
       "4         GameTeam             Japan          Japan     JPN  "
      ]
     },
     "metadata": {},
     "output_type": "display_data"
    },
    {
     "name": "stdout",
     "output_type": "stream",
     "text": [
      "<class 'pandas.core.frame.DataFrame'>\n",
      "RangeIndex: 20178 entries, 0 to 20177\n",
      "Data columns (total 9 columns):\n",
      " #   Column             Non-Null Count  Dtype \n",
      "---  ------             --------------  ----- \n",
      " 0   discipline_title   20178 non-null  object\n",
      " 1   year               20178 non-null  int64 \n",
      " 2   event_title        20178 non-null  object\n",
      " 3   event_gender       20178 non-null  object\n",
      " 4   medal_type         20178 non-null  object\n",
      " 5   participant_type   20178 non-null  object\n",
      " 6   participant_title  5104 non-null   object\n",
      " 7   country_name       20178 non-null  object\n",
      " 8   isocode            20178 non-null  object\n",
      "dtypes: int64(1), object(8)\n",
      "memory usage: 1.4+ MB\n"
     ]
    },
    {
     "data": {
      "text/plain": [
       "None"
      ]
     },
     "metadata": {},
     "output_type": "display_data"
    },
    {
     "name": "stdout",
     "output_type": "stream",
     "text": [
      "[2022 2020 2018 2016 2014 2012 2010 2008 2006 2004 2002 2000 1998 1996\n",
      " 1994 1992 1988 1984 1980 1976 1972 1968 1964 1960 1956 1952 1948 1936\n",
      " 1932 1928 1924 1920 1912 1908 1904 1900 1896]\n"
     ]
    }
   ],
   "source": [
    "display(df_olympics.head(5))\n",
    "display(df_olympics.info())\n",
    "print(df_olympics['year'].unique())"
   ]
  },
  {
   "cell_type": "markdown",
   "metadata": {},
   "source": [
    "Moving on with `df_elevation`. The attributes `Continent`, `Highest point` and `Lowest point` ist non of my interest from this data set. After renaming the columns, I change all of the values of the attributes "
   ]
  },
  {
   "cell_type": "code",
   "execution_count": 173,
   "metadata": {},
   "outputs": [
    {
     "data": {
      "text/html": [
       "<div>\n",
       "<style scoped>\n",
       "    .dataframe tbody tr th:only-of-type {\n",
       "        vertical-align: middle;\n",
       "    }\n",
       "\n",
       "    .dataframe tbody tr th {\n",
       "        vertical-align: top;\n",
       "    }\n",
       "\n",
       "    .dataframe thead th {\n",
       "        text-align: right;\n",
       "    }\n",
       "</style>\n",
       "<table border=\"1\" class=\"dataframe\">\n",
       "  <thead>\n",
       "    <tr style=\"text-align: right;\">\n",
       "      <th></th>\n",
       "      <th>Country or region</th>\n",
       "      <th>Continent</th>\n",
       "      <th>Highest point</th>\n",
       "      <th>Maximum elevation</th>\n",
       "      <th>Lowest point</th>\n",
       "      <th>Minimum elevation</th>\n",
       "      <th>Elevation span</th>\n",
       "    </tr>\n",
       "  </thead>\n",
       "  <tbody>\n",
       "    <tr>\n",
       "      <th>0</th>\n",
       "      <td>Afghanistan</td>\n",
       "      <td>Asia</td>\n",
       "      <td>Noshaq</td>\n",
       "      <td>7492 m24,580 ft</td>\n",
       "      <td>Amu Darya</td>\n",
       "      <td>258 m846 ft</td>\n",
       "      <td>7234 m23,734 ft</td>\n",
       "    </tr>\n",
       "    <tr>\n",
       "      <th>1</th>\n",
       "      <td>Albania</td>\n",
       "      <td>Europe</td>\n",
       "      <td>Korab</td>\n",
       "      <td>2764 m9,068 ft</td>\n",
       "      <td>Adriatic Sea</td>\n",
       "      <td>sea level</td>\n",
       "      <td>2764 m9,068 ft</td>\n",
       "    </tr>\n",
       "    <tr>\n",
       "      <th>2</th>\n",
       "      <td>Algeria</td>\n",
       "      <td>Africa</td>\n",
       "      <td>Mount Tahat</td>\n",
       "      <td>3003 m9,852 ft</td>\n",
       "      <td>Chott Melrhir</td>\n",
       "      <td>−40 m−131 ft</td>\n",
       "      <td>3043 m9,984 ft</td>\n",
       "    </tr>\n",
       "    <tr>\n",
       "      <th>3</th>\n",
       "      <td>American Samoa</td>\n",
       "      <td></td>\n",
       "      <td>Lata Mountain on Ta‘ū</td>\n",
       "      <td>966 m3,169 ft</td>\n",
       "      <td>South Pacific Ocean</td>\n",
       "      <td>sea level</td>\n",
       "      <td>966 m3,169 ft</td>\n",
       "    </tr>\n",
       "    <tr>\n",
       "      <th>4</th>\n",
       "      <td>Andorra</td>\n",
       "      <td>Europe</td>\n",
       "      <td>Coma Pedrosa</td>\n",
       "      <td>2942 m9,652 ft</td>\n",
       "      <td>Gran Valira</td>\n",
       "      <td>840 m2,756 ft</td>\n",
       "      <td>2102 m6,896 ft</td>\n",
       "    </tr>\n",
       "  </tbody>\n",
       "</table>\n",
       "</div>"
      ],
      "text/plain": [
       "  Country or region Continent          Highest point Maximum elevation  \\\n",
       "0       Afghanistan      Asia                 Noshaq   7492 m24,580 ft   \n",
       "1           Albania    Europe                  Korab    2764 m9,068 ft   \n",
       "2           Algeria    Africa            Mount Tahat    3003 m9,852 ft   \n",
       "3    American Samoa            Lata Mountain on Ta‘ū     966 m3,169 ft   \n",
       "4           Andorra    Europe           Coma Pedrosa    2942 m9,652 ft   \n",
       "\n",
       "          Lowest point Minimum elevation   Elevation span  \n",
       "0            Amu Darya       258 m846 ft  7234 m23,734 ft  \n",
       "1         Adriatic Sea         sea level   2764 m9,068 ft  \n",
       "2        Chott Melrhir      −40 m−131 ft   3043 m9,984 ft  \n",
       "3  South Pacific Ocean         sea level    966 m3,169 ft  \n",
       "4          Gran Valira     840 m2,756 ft   2102 m6,896 ft  "
      ]
     },
     "metadata": {},
     "output_type": "display_data"
    },
    {
     "name": "stdout",
     "output_type": "stream",
     "text": [
      "<class 'pandas.core.frame.DataFrame'>\n",
      "RangeIndex: 254 entries, 0 to 253\n",
      "Data columns (total 7 columns):\n",
      " #   Column             Non-Null Count  Dtype \n",
      "---  ------             --------------  ----- \n",
      " 0   Country or region  254 non-null    object\n",
      " 1   Continent          254 non-null    object\n",
      " 2   Highest point      254 non-null    object\n",
      " 3   Maximum elevation  254 non-null    object\n",
      " 4   Lowest point       254 non-null    object\n",
      " 5   Minimum elevation  254 non-null    object\n",
      " 6   Elevation span     254 non-null    object\n",
      "dtypes: object(7)\n",
      "memory usage: 14.0+ KB\n"
     ]
    },
    {
     "data": {
      "text/plain": [
       "None"
      ]
     },
     "metadata": {},
     "output_type": "display_data"
    }
   ],
   "source": [
    "display(df_elevation.head(5))\n",
    "display(df_elevation.info())"
   ]
  },
  {
   "cell_type": "code",
   "execution_count": 145,
   "metadata": {},
   "outputs": [],
   "source": [
    "df_elevation = df_elevation.drop(['Continent', 'Highest point', 'Lowest point'], axis=1)\n",
    "\n",
    "df_elevation = df_elevation.rename(columns={\n",
    "    'Country or region': 'country_name',\n",
    "    'Maximum elevation': 'max_elevation',\n",
    "    'Minimum elevation': 'min_elevation',\n",
    "    'Elevation span' : 'elevation_span'\n",
    "})"
   ]
  },
  {
   "cell_type": "code",
   "execution_count": 146,
   "metadata": {},
   "outputs": [],
   "source": [
    "df_elevation = df_elevation.replace(\"sea level\", \"0\")\n",
    "\n",
    "for col in ['max_elevation', 'min_elevation', 'elevation_span']: \n",
    "    df_elevation[col] = (df_elevation[col].str.split('m')\n",
    "                         .str[0].str.strip()\n",
    "                         .str.replace('−', '-', regex=False)\n",
    "                         .str.replace(',', '.', regex=False))\n",
    "    df_elevation.replace({col : ''}, np.nan, inplace=True)\n",
    "    df_elevation[col] = df_elevation[col].astype(float)"
   ]
  },
  {
   "cell_type": "code",
   "execution_count": 147,
   "metadata": {},
   "outputs": [
    {
     "data": {
      "text/html": [
       "<div>\n",
       "<style scoped>\n",
       "    .dataframe tbody tr th:only-of-type {\n",
       "        vertical-align: middle;\n",
       "    }\n",
       "\n",
       "    .dataframe tbody tr th {\n",
       "        vertical-align: top;\n",
       "    }\n",
       "\n",
       "    .dataframe thead th {\n",
       "        text-align: right;\n",
       "    }\n",
       "</style>\n",
       "<table border=\"1\" class=\"dataframe\">\n",
       "  <thead>\n",
       "    <tr style=\"text-align: right;\">\n",
       "      <th></th>\n",
       "      <th>country_name</th>\n",
       "      <th>max_elevation</th>\n",
       "      <th>min_elevation</th>\n",
       "      <th>elevation_span</th>\n",
       "    </tr>\n",
       "  </thead>\n",
       "  <tbody>\n",
       "    <tr>\n",
       "      <th>0</th>\n",
       "      <td>Afghanistan</td>\n",
       "      <td>7492.0</td>\n",
       "      <td>258.0</td>\n",
       "      <td>7234.0</td>\n",
       "    </tr>\n",
       "    <tr>\n",
       "      <th>1</th>\n",
       "      <td>Albania</td>\n",
       "      <td>2764.0</td>\n",
       "      <td>0.0</td>\n",
       "      <td>2764.0</td>\n",
       "    </tr>\n",
       "    <tr>\n",
       "      <th>2</th>\n",
       "      <td>Algeria</td>\n",
       "      <td>3003.0</td>\n",
       "      <td>-40.0</td>\n",
       "      <td>3043.0</td>\n",
       "    </tr>\n",
       "    <tr>\n",
       "      <th>3</th>\n",
       "      <td>American Samoa</td>\n",
       "      <td>966.0</td>\n",
       "      <td>0.0</td>\n",
       "      <td>966.0</td>\n",
       "    </tr>\n",
       "    <tr>\n",
       "      <th>4</th>\n",
       "      <td>Andorra</td>\n",
       "      <td>2942.0</td>\n",
       "      <td>840.0</td>\n",
       "      <td>2102.0</td>\n",
       "    </tr>\n",
       "  </tbody>\n",
       "</table>\n",
       "</div>"
      ],
      "text/plain": [
       "     country_name  max_elevation  min_elevation  elevation_span\n",
       "0     Afghanistan         7492.0          258.0          7234.0\n",
       "1         Albania         2764.0            0.0          2764.0\n",
       "2         Algeria         3003.0          -40.0          3043.0\n",
       "3  American Samoa          966.0            0.0           966.0\n",
       "4         Andorra         2942.0          840.0          2102.0"
      ]
     },
     "metadata": {},
     "output_type": "display_data"
    }
   ],
   "source": [
    "display(df_elevation.head(5))\n"
   ]
  },
  {
   "cell_type": "code",
   "execution_count": 176,
   "metadata": {},
   "outputs": [
    {
     "data": {
      "text/html": [
       "<div>\n",
       "<style scoped>\n",
       "    .dataframe tbody tr th:only-of-type {\n",
       "        vertical-align: middle;\n",
       "    }\n",
       "\n",
       "    .dataframe tbody tr th {\n",
       "        vertical-align: top;\n",
       "    }\n",
       "\n",
       "    .dataframe thead th {\n",
       "        text-align: right;\n",
       "    }\n",
       "</style>\n",
       "<table border=\"1\" class=\"dataframe\">\n",
       "  <thead>\n",
       "    <tr style=\"text-align: right;\">\n",
       "      <th></th>\n",
       "      <th>Country</th>\n",
       "      <th>Climate zone</th>\n",
       "      <th>Avg °F</th>\n",
       "      <th>Avg °C</th>\n",
       "    </tr>\n",
       "  </thead>\n",
       "  <tbody>\n",
       "    <tr>\n",
       "      <th>0</th>\n",
       "      <td>Afghanistan</td>\n",
       "      <td>DSB</td>\n",
       "      <td>60.26</td>\n",
       "      <td>15.7</td>\n",
       "    </tr>\n",
       "    <tr>\n",
       "      <th>1</th>\n",
       "      <td>Albania</td>\n",
       "      <td>CSB</td>\n",
       "      <td>59.31</td>\n",
       "      <td>15.17</td>\n",
       "    </tr>\n",
       "    <tr>\n",
       "      <th>2</th>\n",
       "      <td>Algeria</td>\n",
       "      <td>BWH</td>\n",
       "      <td>68.0</td>\n",
       "      <td>20.0</td>\n",
       "    </tr>\n",
       "    <tr>\n",
       "      <th>3</th>\n",
       "      <td>American Samoa</td>\n",
       "      <td>AW</td>\n",
       "      <td>82.4</td>\n",
       "      <td>28.0</td>\n",
       "    </tr>\n",
       "    <tr>\n",
       "      <th>4</th>\n",
       "      <td>Andorra</td>\n",
       "      <td>CFB</td>\n",
       "      <td>44.91</td>\n",
       "      <td>7.17</td>\n",
       "    </tr>\n",
       "  </tbody>\n",
       "</table>\n",
       "</div>"
      ],
      "text/plain": [
       "          Country Climate zone Avg °F Avg °C\n",
       "0     Afghanistan          DSB  60.26   15.7\n",
       "1         Albania          CSB  59.31  15.17\n",
       "2         Algeria          BWH   68.0   20.0\n",
       "3  American Samoa           AW   82.4   28.0\n",
       "4         Andorra          CFB  44.91   7.17"
      ]
     },
     "metadata": {},
     "output_type": "display_data"
    },
    {
     "name": "stdout",
     "output_type": "stream",
     "text": [
      "<class 'pandas.core.frame.DataFrame'>\n",
      "RangeIndex: 246 entries, 0 to 245\n",
      "Data columns (total 4 columns):\n",
      " #   Column        Non-Null Count  Dtype \n",
      "---  ------        --------------  ----- \n",
      " 0   Country       246 non-null    object\n",
      " 1   Climate zone  246 non-null    object\n",
      " 2   Avg °F        246 non-null    object\n",
      " 3   Avg °C        246 non-null    object\n",
      "dtypes: object(4)\n",
      "memory usage: 7.8+ KB\n"
     ]
    },
    {
     "data": {
      "text/plain": [
       "None"
      ]
     },
     "metadata": {},
     "output_type": "display_data"
    },
    {
     "data": {
      "text/plain": [
       "array(['DSB', 'CSB', 'BWH', 'AW', 'CFB', 'AF', 'CFA', 'DFB', 'BSK', 'AM',\n",
       "       'CWB', 'BS', 'BSH', 'DFC', 'CWA', 'ET', 'CFC', 'CSA', 'EF', 'BWK',\n",
       "       'DWB', 'AS', 'DSC'], dtype=object)"
      ]
     },
     "metadata": {},
     "output_type": "display_data"
    },
    {
     "data": {
      "text/plain": [
       "23"
      ]
     },
     "metadata": {},
     "output_type": "display_data"
    },
    {
     "data": {
      "text/html": [
       "<div>\n",
       "<style scoped>\n",
       "    .dataframe tbody tr th:only-of-type {\n",
       "        vertical-align: middle;\n",
       "    }\n",
       "\n",
       "    .dataframe tbody tr th {\n",
       "        vertical-align: top;\n",
       "    }\n",
       "\n",
       "    .dataframe thead th {\n",
       "        text-align: right;\n",
       "    }\n",
       "</style>\n",
       "<table border=\"1\" class=\"dataframe\">\n",
       "  <thead>\n",
       "    <tr style=\"text-align: right;\">\n",
       "      <th></th>\n",
       "      <th>Country</th>\n",
       "      <th>Climate zone</th>\n",
       "      <th>Avg °F</th>\n",
       "      <th>Avg °C</th>\n",
       "    </tr>\n",
       "  </thead>\n",
       "  <tbody>\n",
       "    <tr>\n",
       "      <th>0</th>\n",
       "      <td>Afghanistan</td>\n",
       "      <td>DSB</td>\n",
       "      <td>60.26</td>\n",
       "      <td>15.7</td>\n",
       "    </tr>\n",
       "  </tbody>\n",
       "</table>\n",
       "</div>"
      ],
      "text/plain": [
       "       Country Climate zone Avg °F Avg °C\n",
       "0  Afghanistan          DSB  60.26   15.7"
      ]
     },
     "metadata": {},
     "output_type": "display_data"
    }
   ],
   "source": [
    "display(df_climate.head(5))\n",
    "display(df_climate.info())\n",
    "display(df_climate['Climate zone'].unique(), len(df_climate['Climate zone'].unique()))\n",
    "display(df_climate[df_climate['Climate zone']=='DSB'])"
   ]
  },
  {
   "cell_type": "code",
   "execution_count": null,
   "metadata": {},
   "outputs": [],
   "source": []
  },
  {
   "cell_type": "markdown",
   "metadata": {},
   "source": [
    "### Missing Values"
   ]
  },
  {
   "cell_type": "code",
   "execution_count": null,
   "metadata": {},
   "outputs": [],
   "source": []
  },
  {
   "cell_type": "code",
   "execution_count": null,
   "metadata": {},
   "outputs": [],
   "source": []
  },
  {
   "cell_type": "markdown",
   "metadata": {},
   "source": [
    "### Merging Data Sets"
   ]
  },
  {
   "cell_type": "markdown",
   "metadata": {},
   "source": [
    "## Data Exploration\n",
    "\n"
   ]
  },
  {
   "cell_type": "markdown",
   "metadata": {},
   "source": []
  }
 ],
 "metadata": {
  "kernelspec": {
   "display_name": "myenv",
   "language": "python",
   "name": "python3"
  },
  "language_info": {
   "codemirror_mode": {
    "name": "ipython",
    "version": 3
   },
   "file_extension": ".py",
   "mimetype": "text/x-python",
   "name": "python",
   "nbconvert_exporter": "python",
   "pygments_lexer": "ipython3",
   "version": "3.12.5"
  }
 },
 "nbformat": 4,
 "nbformat_minor": 2
}
