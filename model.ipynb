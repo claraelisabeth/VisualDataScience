{
 "cells": [
  {
   "cell_type": "markdown",
   "metadata": {},
   "source": [
    "# Model\n",
    "## Visual Data Science\n",
    "\n",
    "Clara Pichler, 11917694\n",
    "\n",
    "This part of the project will introduce an abstract representation of the data. This will help to find answers to the questions discussed in the _Discover_ part.\n",
    "\n"
   ]
  },
  {
   "cell_type": "markdown",
   "metadata": {},
   "source": [
    "### Notes\n",
    "\n",
    "Bis 13.1\n",
    "\n",
    "__Model:__\n",
    "- build a more abstract representation of the data you studied, to find answers to the questions you selected to work on at the beginning. \n",
    "\n",
    "An abstract model does not necessarily have to be an AI model, but can also be a descriptive representation like a regression analysis or a clustering. After building a model, create one or more visualization(s) that describe the results of your model. \n",
    "\n",
    "Here are some possible modelling techniques to be used:\n",
    "- Clustering\n",
    "- Regression\n",
    "- Principal component analysis\n",
    "- Anomaly detection\n",
    "- AI modelling"
   ]
  },
  {
   "cell_type": "code",
   "execution_count": null,
   "metadata": {},
   "outputs": [],
   "source": []
  }
 ],
 "metadata": {
  "kernelspec": {
   "display_name": "myenv",
   "language": "python",
   "name": "python3"
  },
  "language_info": {
   "name": "python",
   "version": "3.12.5"
  }
 },
 "nbformat": 4,
 "nbformat_minor": 2
}
