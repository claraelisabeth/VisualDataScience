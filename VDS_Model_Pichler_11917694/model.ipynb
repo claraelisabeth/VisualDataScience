{
 "cells": [
  {
   "cell_type": "markdown",
   "metadata": {},
   "source": [
    "# Model\n",
    "## Visual Data Science\n",
    "\n",
    "Clara Pichler, 11917694\n",
    "\n",
    "This part of the project will introduce an abstract representation of the data. This will help to find answers to the questions discussed in the _Discover_ part.\n",
    "\n"
   ]
  },
  {
   "cell_type": "markdown",
   "metadata": {},
   "source": [
    "### Notes\n",
    "\n",
    "Bis 13.1\n",
    "\n",
    "__Model:__\n",
    "- build a more abstract representation of the data you studied, to find answers to the questions you selected to work on at the beginning. \n",
    "\n",
    "An abstract model does not necessarily have to be an AI model, but can also be a descriptive representation like a regression analysis or a clustering. After building a model, create one or more visualization(s) that describe the results of your model. \n",
    "\n",
    "Here are some possible modelling techniques to be used:\n",
    "- Clustering\n",
    "- Regression\n",
    "- Principal component analysis\n",
    "- Anomaly detection\n",
    "- AI modelling"
   ]
  },
  {
   "cell_type": "markdown",
   "metadata": {},
   "source": [
    "- Are there any similarities between countries which win medals often in specific kinds of sports?\n",
    "- Which factors influence the amount of medals a country wins? \n",
    "- Is it possible to predict the number of won medals of a country?\n",
    "- Are there any trends in the medal distribution over time?\n",
    "- Which factors play a part in the \"under-dog\" countries winning suddenly some medals?"
   ]
  },
  {
   "cell_type": "markdown",
   "metadata": {},
   "source": [
    "## Requirements & Dependencies\n",
    "\n",
    "This project was created using Python 3.12.5. The exact versions of the dependencies can be installed with the following command."
   ]
  },
  {
   "cell_type": "code",
   "execution_count": null,
   "metadata": {
    "vscode": {
     "languageId": "shellscript"
    }
   },
   "outputs": [
    {
     "name": "stdout",
     "output_type": "stream",
     "text": [
      "Note: you may need to restart the kernel to use updated packages.\n"
     ]
    }
   ],
   "source": [
    "%pip install -r requirements.txt -q"
   ]
  },
  {
   "cell_type": "code",
   "execution_count": 2,
   "metadata": {},
   "outputs": [],
   "source": [
    "import pandas as pd\n",
    "import numpy as np\n",
    "from bs4 import BeautifulSoup\n",
    "import requests as r\n",
    "import seaborn as sns\n",
    "import missingno as msno\n",
    "import matplotlib.pyplot as plt\n",
    "from sklearn.impute import SimpleImputer"
   ]
  },
  {
   "cell_type": "markdown",
   "metadata": {},
   "source": [
    "## Data"
   ]
  },
  {
   "cell_type": "code",
   "execution_count": 4,
   "metadata": {},
   "outputs": [],
   "source": [
    "df_olympics_merged = pd.read_csv('data/merged_data.csv')"
   ]
  },
  {
   "cell_type": "code",
   "execution_count": 5,
   "metadata": {},
   "outputs": [
    {
     "data": {
      "text/html": [
       "<div>\n",
       "<style scoped>\n",
       "    .dataframe tbody tr th:only-of-type {\n",
       "        vertical-align: middle;\n",
       "    }\n",
       "\n",
       "    .dataframe tbody tr th {\n",
       "        vertical-align: top;\n",
       "    }\n",
       "\n",
       "    .dataframe thead th {\n",
       "        text-align: right;\n",
       "    }\n",
       "</style>\n",
       "<table border=\"1\" class=\"dataframe\">\n",
       "  <thead>\n",
       "    <tr style=\"text-align: right;\">\n",
       "      <th></th>\n",
       "      <th>discipline_title</th>\n",
       "      <th>year</th>\n",
       "      <th>event_title</th>\n",
       "      <th>event_gender</th>\n",
       "      <th>medal_type</th>\n",
       "      <th>participant_type</th>\n",
       "      <th>country_name</th>\n",
       "      <th>season</th>\n",
       "      <th>max_elevation</th>\n",
       "      <th>min_elevation</th>\n",
       "      <th>elevation_span</th>\n",
       "      <th>climate_zone</th>\n",
       "      <th>avg_celsius</th>\n",
       "      <th>isocode</th>\n",
       "      <th>gdp_new</th>\n",
       "    </tr>\n",
       "  </thead>\n",
       "  <tbody>\n",
       "    <tr>\n",
       "      <th>0</th>\n",
       "      <td>Curling</td>\n",
       "      <td>2022</td>\n",
       "      <td>Mixed Doubles</td>\n",
       "      <td>Mixed</td>\n",
       "      <td>GOLD</td>\n",
       "      <td>GameTeam</td>\n",
       "      <td>Italy</td>\n",
       "      <td>Winter</td>\n",
       "      <td>4810.0</td>\n",
       "      <td>-3.0</td>\n",
       "      <td>4813.0</td>\n",
       "      <td>CSA</td>\n",
       "      <td>14.47</td>\n",
       "      <td>ITA</td>\n",
       "      <td>2.066972e+12</td>\n",
       "    </tr>\n",
       "    <tr>\n",
       "      <th>1</th>\n",
       "      <td>Curling</td>\n",
       "      <td>2022</td>\n",
       "      <td>Mixed Doubles</td>\n",
       "      <td>Mixed</td>\n",
       "      <td>SILVER</td>\n",
       "      <td>GameTeam</td>\n",
       "      <td>Norway</td>\n",
       "      <td>Winter</td>\n",
       "      <td>2469.0</td>\n",
       "      <td>0.0</td>\n",
       "      <td>2469.0</td>\n",
       "      <td>DFC</td>\n",
       "      <td>5.03</td>\n",
       "      <td>NOR</td>\n",
       "      <td>5.937270e+11</td>\n",
       "    </tr>\n",
       "    <tr>\n",
       "      <th>2</th>\n",
       "      <td>Curling</td>\n",
       "      <td>2022</td>\n",
       "      <td>Mixed Doubles</td>\n",
       "      <td>Mixed</td>\n",
       "      <td>BRONZE</td>\n",
       "      <td>GameTeam</td>\n",
       "      <td>Sweden</td>\n",
       "      <td>Winter</td>\n",
       "      <td>2097.0</td>\n",
       "      <td>-2.0</td>\n",
       "      <td>2099.0</td>\n",
       "      <td>DFB</td>\n",
       "      <td>7.25</td>\n",
       "      <td>SWE</td>\n",
       "      <td>5.904096e+11</td>\n",
       "    </tr>\n",
       "    <tr>\n",
       "      <th>3</th>\n",
       "      <td>Curling</td>\n",
       "      <td>2022</td>\n",
       "      <td>Women</td>\n",
       "      <td>Women</td>\n",
       "      <td>GOLD</td>\n",
       "      <td>GameTeam</td>\n",
       "      <td>United Kingdom</td>\n",
       "      <td>Winter</td>\n",
       "      <td>1345.0</td>\n",
       "      <td>-4.0</td>\n",
       "      <td>1349.0</td>\n",
       "      <td>CFB</td>\n",
       "      <td>10.75</td>\n",
       "      <td>GBR</td>\n",
       "      <td>3.088840e+12</td>\n",
       "    </tr>\n",
       "    <tr>\n",
       "      <th>4</th>\n",
       "      <td>Curling</td>\n",
       "      <td>2022</td>\n",
       "      <td>Women</td>\n",
       "      <td>Women</td>\n",
       "      <td>SILVER</td>\n",
       "      <td>GameTeam</td>\n",
       "      <td>Japan</td>\n",
       "      <td>Winter</td>\n",
       "      <td>3776.0</td>\n",
       "      <td>-4.0</td>\n",
       "      <td>3780.0</td>\n",
       "      <td>DFB</td>\n",
       "      <td>15.19</td>\n",
       "      <td>JPN</td>\n",
       "      <td>4.256411e+12</td>\n",
       "    </tr>\n",
       "  </tbody>\n",
       "</table>\n",
       "</div>"
      ],
      "text/plain": [
       "  discipline_title  year    event_title event_gender medal_type  \\\n",
       "0          Curling  2022  Mixed Doubles        Mixed       GOLD   \n",
       "1          Curling  2022  Mixed Doubles        Mixed     SILVER   \n",
       "2          Curling  2022  Mixed Doubles        Mixed     BRONZE   \n",
       "3          Curling  2022          Women        Women       GOLD   \n",
       "4          Curling  2022          Women        Women     SILVER   \n",
       "\n",
       "  participant_type    country_name  season  max_elevation  min_elevation  \\\n",
       "0         GameTeam           Italy  Winter         4810.0           -3.0   \n",
       "1         GameTeam          Norway  Winter         2469.0            0.0   \n",
       "2         GameTeam          Sweden  Winter         2097.0           -2.0   \n",
       "3         GameTeam  United Kingdom  Winter         1345.0           -4.0   \n",
       "4         GameTeam           Japan  Winter         3776.0           -4.0   \n",
       "\n",
       "   elevation_span climate_zone  avg_celsius isocode       gdp_new  \n",
       "0          4813.0          CSA        14.47     ITA  2.066972e+12  \n",
       "1          2469.0          DFC         5.03     NOR  5.937270e+11  \n",
       "2          2099.0          DFB         7.25     SWE  5.904096e+11  \n",
       "3          1349.0          CFB        10.75     GBR  3.088840e+12  \n",
       "4          3780.0          DFB        15.19     JPN  4.256411e+12  "
      ]
     },
     "metadata": {},
     "output_type": "display_data"
    }
   ],
   "source": [
    "display(df_olympics_merged.head(5))"
   ]
  },
  {
   "cell_type": "code",
   "execution_count": null,
   "metadata": {},
   "outputs": [],
   "source": []
  }
 ],
 "metadata": {
  "kernelspec": {
   "display_name": "myenv",
   "language": "python",
   "name": "python3"
  },
  "language_info": {
   "codemirror_mode": {
    "name": "ipython",
    "version": 3
   },
   "file_extension": ".py",
   "mimetype": "text/x-python",
   "name": "python",
   "nbconvert_exporter": "python",
   "pygments_lexer": "ipython3",
   "version": "3.12.5"
  }
 },
 "nbformat": 4,
 "nbformat_minor": 2
}
